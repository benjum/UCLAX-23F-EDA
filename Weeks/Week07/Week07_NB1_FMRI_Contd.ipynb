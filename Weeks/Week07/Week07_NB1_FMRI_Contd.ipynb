{
  "cells": [
    {
      "cell_type": "markdown",
      "id": "d7e20050-7c5c-4c75-80c6-2198e3f1f18b",
      "metadata": {},
      "source": "# Time series\n\nA classic of multivariate analysis (and one which we will investigate in more depth in a later class)."
    },
    {
      "cell_type": "markdown",
      "id": "45c1a19a-c95e-48d5-9459-8402a7d14eaa",
      "metadata": {},
      "source": "# FMRI\n\nSeaborn's example FMRI dataset is taken from https://github.com/mwaskom/Waskom_CerebCortex_2017\n\nIf you are curious about further analysis, see the following article related to the data:\n* Michael L. Waskom, Michael C. Frank, Anthony D. Wagner. \"Adaptive Engagement of Cognitive Control in Context-Dependent Decision Making.\" Cerebral Cortex, Volume 27, Issue 2, February 2017, Pages 1270–1284, https://doi.org/10.1093/cercor/bhv333"
    },
    {
      "cell_type": "code",
      "execution_count": null,
      "id": "a84eca3e-aa9f-49e0-abdd-51c6c639d1cc",
      "metadata": {
        "trusted": true
      },
      "outputs": [],
      "source": "import matplotlib.pyplot as plt\nimport pandas as pd\nimport seaborn as sns"
    },
    {
      "cell_type": "code",
      "execution_count": null,
      "id": "822ef202-496e-43e4-b834-4d3dc7c0840a",
      "metadata": {
        "trusted": true
      },
      "outputs": [],
      "source": "fmri = sns.load_dataset(\"fmri\")"
    },
    {
      "cell_type": "code",
      "execution_count": null,
      "id": "7729fa09-1915-41e5-8b1c-a99b2ca9c2c6",
      "metadata": {
        "trusted": true
      },
      "outputs": [],
      "source": "fmri"
    },
    {
      "cell_type": "markdown",
      "id": "e8e378a7-00d9-40f9-ad5b-34615addddfd",
      "metadata": {},
      "source": "We can use matplotlib to make any of the plots that are in this notebook.  (Remember that pandas and seaborn plotting routines are based on matplotlib)."
    },
    {
      "cell_type": "code",
      "execution_count": null,
      "id": "e7e43525-c792-4240-9062-8adbe2889cfa",
      "metadata": {
        "trusted": true
      },
      "outputs": [],
      "source": "plt.plot(fmri['timepoint'],\n         fmri['signal'],\n         'ko')"
    },
    {
      "cell_type": "markdown",
      "id": "7d2dbddb-b307-4f31-b121-54bcb87ab7cc",
      "metadata": {},
      "source": "Of course, there's more structure to the data than what's visible here.  We have different temporal evolution depending on the values in the 'subject', 'event', and 'region' columns."
    },
    {
      "cell_type": "code",
      "execution_count": null,
      "id": "1789ebc5-d97b-46f2-9ca7-ee3d4706f478",
      "metadata": {
        "trusted": true
      },
      "outputs": [],
      "source": "fmri['subject'].unique()"
    },
    {
      "cell_type": "code",
      "execution_count": null,
      "id": "dbffb02b-2d7b-48c9-beac-c600448fa755",
      "metadata": {
        "trusted": true
      },
      "outputs": [],
      "source": "fmri['event'].unique()"
    },
    {
      "cell_type": "code",
      "execution_count": null,
      "id": "32f7fcee-e275-4992-a95c-95620f610edc",
      "metadata": {
        "trusted": true
      },
      "outputs": [],
      "source": "fmri['region'].unique()"
    },
    {
      "cell_type": "code",
      "execution_count": null,
      "id": "75a03a70-36e4-4b16-81b3-e28cbab13921",
      "metadata": {
        "trusted": true
      },
      "outputs": [],
      "source": "fmri.loc[(fmri['subject']=='s0') & \n         (fmri['event']=='stim') & \n         (fmri['region']=='parietal')].sort_values(by='timepoint')"
    },
    {
      "cell_type": "code",
      "execution_count": null,
      "id": "c06f6b26-cc6a-4b4b-80f7-d0107368aaf4",
      "metadata": {
        "trusted": true
      },
      "outputs": [],
      "source": "fmri_s0 = fmri.loc[(fmri['subject']=='s0') & \n                   (fmri['event']=='stim') & \n                   (fmri['region']=='parietal')].sort_values(by='timepoint').copy()\nfmri_s1 = fmri.loc[(fmri['subject']=='s1') & \n                   (fmri['event']=='stim') & \n                   (fmri['region']=='parietal')].sort_values(by='timepoint').copy()\n                   \nplt.plot(fmri_s0['timepoint'],\n         fmri_s0['signal'],\n         'k')\nplt.plot(fmri_s1['timepoint'],\n         fmri_s1['signal'],\n         'b')"
    },
    {
      "cell_type": "markdown",
      "id": "2d142d74-2d03-4ec1-9264-98a9364f76de",
      "metadata": {},
      "source": "Pandas dataframes have built-in plotting methods for making visualizations which can be a bit easier to work with out-of-the-box than matplotlib."
    },
    {
      "cell_type": "code",
      "execution_count": null,
      "id": "2fb282b9-947c-45df-a78e-93e5c9ae537e",
      "metadata": {
        "trusted": true
      },
      "outputs": [],
      "source": "# not quite this easy!\nfmri.plot(x='timepoint',y='signal')"
    },
    {
      "cell_type": "code",
      "execution_count": null,
      "id": "36b7485a-dbb2-4cf4-9bc5-77738454fda8",
      "metadata": {
        "trusted": true
      },
      "outputs": [],
      "source": "ax = fmri_s0.plot(x='timepoint',y='signal',color='k')\nfmri_s1.plot(x='timepoint',y='signal',color='b', ax=ax)"
    },
    {
      "cell_type": "markdown",
      "id": "a58b1cf9-6082-4b98-900a-6be8613c7227",
      "metadata": {},
      "source": "Seaborn can also work with Pandas dataframes, and it has fantastic capabilities for making a lot of exploratory visualizations, particularly for the multivariate data we are now interested in exploring.\n\n\"lineplot\" will draw a line plot with the possibility of semantic groupings. (https://seaborn.pydata.org/generated/seaborn.lineplot.html)"
    },
    {
      "cell_type": "code",
      "execution_count": null,
      "id": "1c80696a-a21e-4ed8-ba8d-8dae5d9ad420",
      "metadata": {
        "trusted": true
      },
      "outputs": [],
      "source": "sns.lineplot(data=fmri,x='timepoint',y='signal')"
    },
    {
      "cell_type": "markdown",
      "id": "07abd355-ccad-4d34-9548-edf244bfa30f",
      "metadata": {},
      "source": "What is the above showing???\n\nIt's actually showing the mean and a 95% confidence interval."
    },
    {
      "cell_type": "code",
      "execution_count": null,
      "id": "99d9b8f5-5e36-4120-bc96-7180b4a46603",
      "metadata": {
        "trusted": true
      },
      "outputs": [],
      "source": "sns.lineplot(data=fmri.loc[fmri['subject']=='s0'],x='timepoint',y='signal')"
    },
    {
      "cell_type": "markdown",
      "id": "573d89d0-52ac-44f8-8db8-c56102e6e973",
      "metadata": {},
      "source": "Wait... the above has mean too?\n\nYes -> it has all the events and region info."
    },
    {
      "cell_type": "code",
      "execution_count": null,
      "id": "92f7162c-dc94-4b30-ab78-35819b90fc55",
      "metadata": {
        "trusted": true
      },
      "outputs": [],
      "source": "sns.lineplot(data=fmri_s0,x='timepoint',y='signal')"
    },
    {
      "cell_type": "markdown",
      "id": "02f9cede-1ea3-4963-820b-31869fbe916a",
      "metadata": {},
      "source": "Seaborn does make it easy to \"split\" the visualizations up using colors (hues), columns, and rows."
    },
    {
      "cell_type": "code",
      "execution_count": null,
      "id": "4c2e4ef2-098f-49eb-aa1a-e99eb0e13e39",
      "metadata": {
        "trusted": true
      },
      "outputs": [],
      "source": "sns.lineplot(data=fmri, x='timepoint', y='signal', hue='subject')"
    },
    {
      "cell_type": "code",
      "execution_count": null,
      "id": "a68821ba-3477-497e-91ca-2036a09975dc",
      "metadata": {
        "trusted": true
      },
      "outputs": [],
      "source": "sns.lineplot(data=fmri, x='timepoint', y='signal', hue='event')"
    },
    {
      "cell_type": "code",
      "execution_count": null,
      "id": "46e296f3-0847-4658-9aa9-256ed8cd7aff",
      "metadata": {
        "trusted": true
      },
      "outputs": [],
      "source": "sns.lineplot(data=fmri, x='timepoint', y='signal', hue='event', style='region')"
    },
    {
      "cell_type": "markdown",
      "id": "603f512c-f22e-4158-9eb7-c28cb4a36c0d",
      "metadata": {},
      "source": "Here again we note that the styling of a visualization, despite being useful to break data up into different pieces for comparison, does merit some thought, focus, and sometimes experimental improvisation to get into more useful forms."
    },
    {
      "cell_type": "code",
      "execution_count": null,
      "id": "bca0cd6f-b098-4437-8c8f-1020b8a70e26",
      "metadata": {
        "trusted": true
      },
      "outputs": [],
      "source": "sns.lineplot(data=fmri, x='timepoint', y='signal', style='event', hue='region')"
    },
    {
      "cell_type": "markdown",
      "id": "4a6127b1-2e91-4dd3-9449-d64d5c135425",
      "metadata": {},
      "source": "The above is easier for comparison since the colors are not right next to each other."
    },
    {
      "cell_type": "markdown",
      "id": "3098de68-53b3-4db7-aedd-d6a36ebf0f3f",
      "metadata": {},
      "source": "Statistical note:  by default the lineplot will show mean and 95% confidence interval.  You can also use standard error, standard deviation, and percentile interval.  See https://seaborn.pydata.org/tutorial/error_bars.html"
    },
    {
      "cell_type": "code",
      "execution_count": null,
      "id": "d1680946-8a04-43fd-86fb-ef8a48e3718c",
      "metadata": {
        "trusted": true
      },
      "outputs": [],
      "source": "sns.lineplot(data=fmri, x='timepoint', y='signal', style='event', hue='region', errorbar=None)"
    },
    {
      "cell_type": "markdown",
      "id": "42010b66-6cae-4554-b381-34e696c570be",
      "metadata": {},
      "source": "The above can be useful if you want to clear the plot of error markings and simply focus on the trend in mean."
    },
    {
      "cell_type": "code",
      "execution_count": null,
      "id": "2578f637-3f86-44f0-bbf2-84fa5a8a1d80",
      "metadata": {
        "trusted": true
      },
      "outputs": [],
      "source": "sns.lineplot(data=fmri, x='timepoint', y='signal', style='event', hue='region', \n             errorbar=('se',1))"
    },
    {
      "cell_type": "markdown",
      "id": "797b1a65-1567-48ff-8ea3-47182ab05b91",
      "metadata": {},
      "source": "\"relplot\" is useful for drawing relational plots (like line and scatter plots), onto a FacetGrid (separating values of a given variable along columns or rows).\n\nhttps://seaborn.pydata.org/generated/seaborn.relplot.html"
    },
    {
      "cell_type": "code",
      "execution_count": null,
      "id": "2a0a620a-99dc-4114-b800-c5dccf12e9d9",
      "metadata": {
        "trusted": true
      },
      "outputs": [],
      "source": "sns.relplot(data=fmri, x='timepoint', y='signal', hue='event', col='region')"
    },
    {
      "cell_type": "code",
      "execution_count": null,
      "id": "dcede239-7a39-4e42-b0e3-44edcfe40c73",
      "metadata": {
        "trusted": true
      },
      "outputs": [],
      "source": "# Remember that I only retained parietal as a region in fmri_s0.\n\nsns.relplot(data=fmri_s0, x='timepoint', y='signal', hue='event', col='region')"
    },
    {
      "cell_type": "code",
      "execution_count": null,
      "id": "c8382497-b904-4739-82c1-49ca5a1502eb",
      "metadata": {
        "trusted": true
      },
      "outputs": [],
      "source": "sns.relplot(data=fmri, x='timepoint', y='signal', hue='event', col='region', kind='line')"
    },
    {
      "cell_type": "markdown",
      "id": "6a44a7b7-391d-4b89-90df-3f5fa0556b0f",
      "metadata": {},
      "source": "# New material\n\nBeing more methodical about time series."
    },
    {
      "cell_type": "code",
      "execution_count": null,
      "id": "0913840d-84d6-4c0a-b8cf-1cdab33ef803",
      "metadata": {
        "trusted": true
      },
      "outputs": [],
      "source": "fmri_s0"
    },
    {
      "cell_type": "code",
      "execution_count": null,
      "id": "27c04434-474b-4978-a4cf-e0879fd2a0d4",
      "metadata": {
        "trusted": true
      },
      "outputs": [],
      "source": "plt.plot(fmri_s0['timepoint'], fmri_s0['signal'], 'ko')"
    },
    {
      "cell_type": "code",
      "execution_count": null,
      "id": "fb1952c8-f743-454d-aefb-f7107bb56687",
      "metadata": {
        "trusted": true
      },
      "outputs": [],
      "source": "plt.plot(fmri_s0['timepoint'], fmri_s0['signal'], 'ko')\nplt.plot(fmri_s0['timepoint'], fmri_s0['signal'])"
    },
    {
      "cell_type": "code",
      "execution_count": null,
      "id": "fa566eda-3896-4de3-90f7-e076d49335b7",
      "metadata": {
        "trusted": true
      },
      "outputs": [],
      "source": "plt.plot(fmri_s0['timepoint'], fmri_s0['signal'])"
    },
    {
      "cell_type": "code",
      "execution_count": null,
      "id": "77f9f0f4-c9c5-4445-a11a-3649800f0863",
      "metadata": {
        "trusted": true
      },
      "outputs": [],
      "source": "plt.fill_between(fmri_s0['timepoint'], fmri_s0['signal'])"
    },
    {
      "cell_type": "code",
      "execution_count": null,
      "id": "ed217d42-8252-4d29-a13a-9e588cb05c44",
      "metadata": {
        "trusted": true
      },
      "outputs": [],
      "source": "sns.scatterplot(data=fmri.loc[(fmri['subject'].isin(['s0','s1','s2'])) &\n                              (fmri['event']=='stim') &\n                              (fmri['region']=='parietal')], x='timepoint', y='signal', hue='subject')"
    },
    {
      "cell_type": "code",
      "execution_count": null,
      "id": "51bba982-9a27-4d48-a987-70d3fdaea8b2",
      "metadata": {
        "trusted": true
      },
      "outputs": [],
      "source": "sns.lineplot(data=fmri.loc[(fmri['subject'].isin(['s0','s1','s2'])) &\n                              (fmri['event']=='stim') &\n                              (fmri['region']=='parietal')], x='timepoint', y='signal', hue='subject')"
    },
    {
      "cell_type": "code",
      "execution_count": null,
      "id": "f736bd08-813c-4703-a45b-f9861d479ba5",
      "metadata": {
        "trusted": true
      },
      "outputs": [],
      "source": "sns.lineplot(data=fmri.loc[(fmri['subject'].isin(['s0','s1','s2'])) &\n                              (fmri['event']=='stim') &\n                              (fmri['region']=='parietal')], x='timepoint', y='signal', hue='subject', legend=None)\nsns.scatterplot(data=fmri.loc[(fmri['subject'].isin(['s0','s1','s2'])) &\n                              (fmri['event']=='stim') &\n                              (fmri['region']=='parietal')], x='timepoint', y='signal', hue='subject')"
    },
    {
      "cell_type": "code",
      "execution_count": null,
      "id": "a58dd801-2145-4afd-89a0-565db60db710",
      "metadata": {
        "trusted": true
      },
      "outputs": [],
      "source": "d = fmri.loc[(fmri['subject'].isin(['s0','s1','s2'])) &\n                              (fmri['event']=='stim') &\n                              (fmri['region']=='parietal')]\n\nax = sns.lineplot(data=d, x='timepoint', y='signal', hue='subject',\n                  palette = ['blue','red','green'], \n                  legend=None)\n\n# First, adjust axes limits so annotations fit in the plot\nax.set_xlim(-1.0, 22.0)\n\n# Positions\nLABEL_Y = [\n    -0.10,  # s2\n    -0.05,  # s1\n    0.0,    # s0\n]\n\nx_start = 18\nx_end = 20\nPAD = 0.1\n\nCOLOR_SCALE = ['blue', 'red', 'green']\n\n# Add labels\nfor idx, subs in enumerate(d[\"subject\"].unique()):\n    data = d[(d[\"subject\"] == subs) & (d[\"timepoint\"] == 18)]\n    color = COLOR_SCALE[idx]\n    \n    # Subject name\n    text = data[\"subject\"].values[0]\n    \n    # Vertical start of line\n    y_start = data[\"signal\"].values[0]\n    # Vertical end of line\n    y_end = LABEL_Y[idx]\n    \n    # Add line based on three points\n    ax.plot(\n        [x_start, (x_start + x_end - PAD) / 2 , x_end - PAD], \n        [y_start, y_end, y_end], \n        color=color, \n        alpha=0.5, \n        ls=\"dashed\"\n    )\n    \n    # Add text for subject name\n    ax.text(\n        x_end, \n        y_end, \n        text, \n        color=color, \n        fontsize=14, \n        weight=\"bold\", \n        va=\"center\"\n    )"
    },
    {
      "cell_type": "code",
      "execution_count": null,
      "id": "c1d9bcbf-e7cf-45ca-9124-eb434dfd4392",
      "metadata": {
        "trusted": true
      },
      "outputs": [],
      "source": "ds0 = fmri.loc[(fmri['subject'] == 's0') &\n                 (fmri['region']=='parietal')].sort_values(by='timepoint',ignore_index=True)\ndstim = fmri.loc[(fmri['subject'] == 's0') &\n                 (fmri['event'] == 'stim') &\n                 (fmri['region']=='parietal')].sort_values(by='timepoint',ignore_index=True)\ndcue = fmri.loc[(fmri['subject'] == 's0') &\n                 (fmri['event'] == 'cue') &\n                 (fmri['region']=='parietal')].sort_values(by='timepoint',ignore_index=True)\ndstim['event_diff'] = (dstim['signal'] - dcue['signal'])"
    },
    {
      "cell_type": "code",
      "execution_count": null,
      "id": "7b196992-4c47-4917-aee7-72ff0589727d",
      "metadata": {
        "trusted": true
      },
      "outputs": [],
      "source": "fig,ax = plt.subplots(2,1)\nsns.lineplot(data=dstim, x='timepoint', y='signal', ax=ax[0])\nsns.lineplot(data=dstim, x='timepoint', y='event_diff', ax=ax[1])\nax[1].set_ylabel('difference in stim vs cue')\nplt.show()"
    },
    {
      "cell_type": "code",
      "execution_count": null,
      "id": "71784df9-76f5-4c16-a474-11f9770d24ed",
      "metadata": {
        "trusted": true
      },
      "outputs": [],
      "source": "fig,ax = plt.subplots(2,1)\nsns.lineplot(data=ds0, x='timepoint', y='signal', hue='event', ax=ax[0])\nax[1].fill_between(dstim['timepoint'],dstim['event_diff'])\nax[1].set_ylabel('difference in stim vs cue')"
    },
    {
      "cell_type": "code",
      "execution_count": null,
      "id": "592f380c-855a-46b1-b75d-c70a0dc498c8",
      "metadata": {
        "trusted": true
      },
      "outputs": [],
      "source": "dstim"
    },
    {
      "cell_type": "code",
      "execution_count": null,
      "id": "792cac07-e734-426b-a815-da31c6929b3f",
      "metadata": {
        "trusted": true
      },
      "outputs": [],
      "source": "plt.plot(dstim['signal'], dstim['event_diff'])"
    },
    {
      "cell_type": "markdown",
      "id": "92ee9143-7ad9-459a-a79a-102c4d8c3087",
      "metadata": {},
      "source": "To color this by time, we can build it up in pieces and assign the pieces different colors."
    },
    {
      "cell_type": "code",
      "execution_count": null,
      "id": "45dd5a67-b7ac-4ff7-a81b-e591f5d9a6d9",
      "metadata": {
        "trusted": true
      },
      "outputs": [],
      "source": "import matplotlib.cm as cm"
    },
    {
      "cell_type": "code",
      "execution_count": null,
      "id": "d419d454-2cdd-4c6a-bdd7-db96be0fce6b",
      "metadata": {
        "trusted": true
      },
      "outputs": [],
      "source": "cm.jet(2)"
    },
    {
      "cell_type": "code",
      "execution_count": null,
      "id": "85fb17f6-b8ba-4acf-bcef-4ca44e638691",
      "metadata": {
        "trusted": true
      },
      "outputs": [],
      "source": "dstim['timepoint'].values"
    },
    {
      "cell_type": "code",
      "execution_count": null,
      "id": "907fada2-5083-4fc4-ab14-8ff87a1bb162",
      "metadata": {
        "trusted": true
      },
      "outputs": [],
      "source": "[cm.jet(i) for i in dstim['timepoint'].values]"
    },
    {
      "cell_type": "code",
      "execution_count": null,
      "id": "2e5e09b2-0987-43ce-be54-ee55117fbb41",
      "metadata": {
        "trusted": true
      },
      "outputs": [],
      "source": "for i in dstim['timepoint'].values[:-1]:\n    i0 = dstim.loc[dstim['timepoint'] == i]\n    i1 = dstim.loc[dstim['timepoint'] == i+1]\n    plt.scatter(i0['signal'], i0['event_diff'],color=cm.jet(i*10))\n    plt.plot([i0['signal'],i1['signal']], [i0['event_diff'],i1['event_diff']], color=cm.jet(i*10))"
    }
  ],
  "metadata": {
    "kernelspec": {
      "display_name": "Python 3 (ipykernel)",
      "language": "python",
      "name": "python3"
    },
    "language_info": {
      "codemirror_mode": {
        "name": "ipython",
        "version": 3
      },
      "file_extension": ".py",
      "mimetype": "text/x-python",
      "name": "python",
      "nbconvert_exporter": "python",
      "pygments_lexer": "ipython3",
      "version": "3.10.11"
    }
  },
  "nbformat": 4,
  "nbformat_minor": 5
}